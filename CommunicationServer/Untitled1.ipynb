{
 "cells": [
  {
   "cell_type": "code",
   "execution_count": 1,
   "id": "20ac5c5d",
   "metadata": {},
   "outputs": [
    {
     "ename": "SyntaxError",
     "evalue": "invalid syntax (200951633.py, line 20)",
     "output_type": "error",
     "traceback": [
      "\u001b[0;36m  Cell \u001b[0;32mIn[1], line 20\u001b[0;36m\u001b[0m\n\u001b[0;31m    int[][] arr = { { 1, 2 }, { 3, 4 }, { 5, 6 }};\u001b[0m\n\u001b[0m        ^\u001b[0m\n\u001b[0;31mSyntaxError\u001b[0m\u001b[0;31m:\u001b[0m invalid syntax\n"
     ]
    }
   ],
   "source": [
    "def find_closest_brute_force(array):\n",
    "    \n",
    "    result = {}\n",
    "    result[\"p1\"] = array[0]\n",
    "    result[\"p2\"] = array[1]\n",
    "    result[\"distance\"] = np.sqrt((