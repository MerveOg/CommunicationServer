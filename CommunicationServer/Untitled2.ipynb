{
 "cells": [
  {
   "cell_type": "code",
   "execution_count": 1,
   "id": "5a54adc0",
   "metadata": {},
   "outputs": [
    {
     "name": "stdout",
     "output_type": "stream",
     "text": [
      "[1, 2, 3]\n",
      "[1, 3, 2]\n",
      "[2, 1, 3]\n",
      "[2, 3, 1]\n",
      "[3, 2, 1]\n",
      "[3, 1, 2]\n"
     ]
    }
   ],
   "source": [
    "def generate_permutations(arr):\n",
    "    def permute_helper(arr, start, end):\n",
    "        if start == end:\n",
    "            print(arr)\n",
    "        else:\n",
    "            for i in range(start, end + 1):\n",
    "                # Swap elements at positions start and i\n",
    "                arr[start], arr[i] = arr[i], arr[start]\n",
    "\n",
    "                #